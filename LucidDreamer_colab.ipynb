{
  "cells": [
    {
      "cell_type": "markdown",
      "metadata": {
        "id": "view-in-github"
      },
      "source": [
        "[![Open In Colab](https://colab.research.google.com/assets/colab-badge.svg)](https://colab.research.google.com/github/camenduru/LucidDreamer-colab/blob/main/LucidDreamer_colab.ipynb)"
      ]
    },
    {
      "cell_type": "code",
      "execution_count": null,
      "metadata": {
        "id": "VjYy0F2gZIPR"
      },
      "outputs": [],
      "source": [
        "%cd /content\n",
        "!git clone -b dev https://github.com/camenduru/LucidDreamer-hf\n",
        "%cd /content/LucidDreamer-hf\n",
        "!pip install -q https://download.pytorch.org/whl/cu121/xformers-0.0.22.post7-cp310-cp310-manylinux2014_x86_64.whl\n",
        "!pip install -q git+https://github.com/openai/point-e plyfile gradio==3.50.2 diffusers accelerate\n",
        "!pip install -q https://github.com/camenduru/LucidDreamer/releases/download/v1.0/diff_gaussian_rasterization-0.0.0-cp310-cp310-linux_x86_64.whl\n",
        "!pip install -q https://github.com/camenduru/LucidDreamer/releases/download/v1.0/simple_knn-0.0.0-cp310-cp310-linux_x86_64.whl\n",
        "\n",
        "!wget https://huggingface.co/spaces/haodongli/LucidDreamer/resolve/main/example/boots_pro.mp4 -O /content/LucidDreamer-hf/example/boots_pro.mp4\n",
        "!wget https://huggingface.co/spaces/haodongli/LucidDreamer/resolve/main/example/boots.mp4 -O /content/LucidDreamer-hf/example/boots.mp4\n",
        "!wget https://huggingface.co/spaces/haodongli/LucidDreamer/resolve/main/example/Donut_pro.mp4 -O /content/LucidDreamer-hf/example/Donut_pro.mp4\n",
        "!wget https://huggingface.co/spaces/haodongli/LucidDreamer/resolve/main/example/Donut.mp4 -O /content/LucidDreamer-hf/example/Donut.mp4\n",
        "!wget https://huggingface.co/spaces/haodongli/LucidDreamer/resolve/main/example/durian_pro.mp4 -O /content/LucidDreamer-hf/example/durian_pro.mp4\n",
        "!wget https://huggingface.co/spaces/haodongli/LucidDreamer/resolve/main/example/durian.mp4 -O /content/LucidDreamer-hf/example/durian.mp4\n",
        "!wget https://huggingface.co/spaces/haodongli/LucidDreamer/resolve/main/example/pillow_huskies_pro.mp4 -O /content/LucidDreamer-hf/example/pillow_huskies_pro.mp4\n",
        "!wget https://huggingface.co/spaces/haodongli/LucidDreamer/resolve/main/example/pillow_huskies.mp4 -O /content/LucidDreamer-hf/example/pillow_huskies.mp4\n",
        "!wget https://huggingface.co/spaces/haodongli/LucidDreamer/resolve/main/example/wooden_car_pro.mp4 -O /content/LucidDreamer-hf/example/wooden_car_pro.mp4\n",
        "!wget https://huggingface.co/spaces/haodongli/LucidDreamer/resolve/main/example/wooden_car.mp4 -O /content/LucidDreamer-hf/example/wooden_car.mp4\n",
        "\n",
        "%cd /content/LucidDreamer-hf\n",
        "!python gradio_demo.py"
      ]
    }
  ],
  "metadata": {
    "accelerator": "GPU",
    "colab": {
      "gpuType": "T4",
      "provenance": []
    },
    "kernelspec": {
      "display_name": "Python 3",
      "name": "python3"
    },
    "language_info": {
      "name": "python"
    }
  },
  "nbformat": 4,
  "nbformat_minor": 0
}
